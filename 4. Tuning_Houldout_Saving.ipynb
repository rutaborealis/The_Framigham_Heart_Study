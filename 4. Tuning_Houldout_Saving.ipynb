{
 "cells": [
  {
   "cell_type": "markdown",
   "metadata": {},
   "source": [
    "## The Framingham Heart Study. Tuning. Holdout. Saving."
   ]
  },
  {
   "cell_type": "markdown",
   "metadata": {},
   "source": [
    "### Connecting libraries and scripts"
   ]
  },
  {
   "cell_type": "code",
   "execution_count": 1,
   "metadata": {
    "tags": []
   },
   "outputs": [],
   "source": [
    "# 1. Core libraries\n",
    "import numpy as np\n",
    "import pandas as pd\n",
    "\n",
    "from sklearn.preprocessing import StandardScaler\n",
    "from sklearn.model_selection import train_test_split, StratifiedKFold, RandomizedSearchCV\n",
    "from sklearn.pipeline import Pipeline\n",
    "from sklearn.linear_model import LogisticRegression\n",
    "from sklearn.metrics import roc_curve, auc\n",
    "from sklearn.utils import shuffle\n",
    "\n",
    "import xgboost as xgb\n",
    "from catboost import CatBoostClassifier\n",
    "\n",
    "from scipy import stats\n",
    "\n",
    "import optuna\n",
    "\n",
    "import pickle\n",
    "\n",
    "from tqdm import tqdm_notebook\n",
    "\n",
    "# 2. Constants\n",
    "RAND = 50\n",
    "N_FOLDS = 5"
   ]
  },
  {
   "cell_type": "markdown",
   "metadata": {},
   "source": [
    "### Settings"
   ]
  },
  {
   "cell_type": "code",
   "execution_count": 2,
   "metadata": {
    "tags": []
   },
   "outputs": [],
   "source": [
    "# 1. General settings\n",
    "pd.set_option('display.max_columns', 100)\n",
    "\n",
    "# 2. Warnings\n",
    "import warnings\n",
    "from warnings import simplefilter\n",
    "\n",
    "warnings.filterwarnings('ignore')\n",
    "warnings.filterwarnings('ignore', message=\".*The 'nopython' keyword.*\")"
   ]
  },
  {
   "cell_type": "markdown",
   "metadata": {},
   "source": [
    "### Metrics"
   ]
  },
  {
   "cell_type": "code",
   "execution_count": 3,
   "metadata": {
    "tags": []
   },
   "outputs": [],
   "source": [
    "import get_metrics"
   ]
  },
  {
   "cell_type": "markdown",
   "metadata": {},
   "source": [
    "### Reduce memory usage"
   ]
  },
  {
   "cell_type": "code",
   "execution_count": 4,
   "metadata": {
    "tags": []
   },
   "outputs": [],
   "source": [
    "import reduce_mem_usage"
   ]
  },
  {
   "cell_type": "markdown",
   "metadata": {},
   "source": [
    "### Functions"
   ]
  },
  {
   "cell_type": "markdown",
   "metadata": {},
   "source": [
    "**Function checks model overfitting.**<br>"
   ]
  },
  {
   "cell_type": "code",
   "execution_count": 5,
   "metadata": {
    "tags": []
   },
   "outputs": [],
   "source": [
    "def check_overfitting(model, X_train, y_train, X_test, y_test, metric_fun):\n",
    "    \"\"\"\n",
    "    Checkong for overfitiing.\n",
    "    \"\"\"\n",
    "    y_pred_train = model.predict(X_train)\n",
    "    y_pred_test = model.predict(X_test)\n",
    "\n",
    "    value_train = metric_fun(y_train, y_pred_train)\n",
    "    value_test = metric_fun(y_test, y_pred_test)\n",
    "\n",
    "    print(f'{metric_fun.__name__} train: %.3f' % value_train)\n",
    "    print(f'{metric_fun.__name__} test: %.3f' % value_test)\n",
    "    print(f'delta = {(abs(value_train - value_test)/value_test*100):.1f} %')"
   ]
  },
  {
   "cell_type": "markdown",
   "metadata": {},
   "source": [
    "### Data import"
   ]
  },
  {
   "cell_type": "code",
   "execution_count": 6,
   "metadata": {
    "tags": []
   },
   "outputs": [],
   "source": [
    "df = pd.read_csv('csv/preprocessed_dataset.csv')"
   ]
  },
  {
   "cell_type": "code",
   "execution_count": 7,
   "metadata": {
    "tags": []
   },
   "outputs": [
    {
     "data": {
      "text/html": [
       "<div>\n",
       "<style scoped>\n",
       "    .dataframe tbody tr th:only-of-type {\n",
       "        vertical-align: middle;\n",
       "    }\n",
       "\n",
       "    .dataframe tbody tr th {\n",
       "        vertical-align: top;\n",
       "    }\n",
       "\n",
       "    .dataframe thead th {\n",
       "        text-align: right;\n",
       "    }\n",
       "</style>\n",
       "<table border=\"1\" class=\"dataframe\">\n",
       "  <thead>\n",
       "    <tr style=\"text-align: right;\">\n",
       "      <th></th>\n",
       "      <th>RANDID</th>\n",
       "      <th>TOTCHOL</th>\n",
       "      <th>AGE</th>\n",
       "      <th>SYSBP</th>\n",
       "      <th>DIABP</th>\n",
       "      <th>CIGPDAY</th>\n",
       "      <th>BMI</th>\n",
       "      <th>HEARTRTE</th>\n",
       "      <th>GLUCOSE</th>\n",
       "      <th>HDLC</th>\n",
       "      <th>LDLC</th>\n",
       "      <th>SEX</th>\n",
       "      <th>educ</th>\n",
       "      <th>CVD</th>\n",
       "      <th>AGE_1</th>\n",
       "      <th>AGE_2</th>\n",
       "      <th>AGE_3</th>\n",
       "      <th>CURSMOKE_1</th>\n",
       "      <th>CURSMOKE_2</th>\n",
       "      <th>CURSMOKE_3</th>\n",
       "      <th>DIABETES_1</th>\n",
       "      <th>DIABETES_2</th>\n",
       "      <th>DIABETES_3</th>\n",
       "      <th>BPMEDS_1</th>\n",
       "      <th>BPMEDS_2</th>\n",
       "      <th>BPMEDS_3</th>\n",
       "      <th>PREVCHD_1</th>\n",
       "      <th>PREVCHD_2</th>\n",
       "      <th>PREVCHD_3</th>\n",
       "      <th>PREVAP_1</th>\n",
       "      <th>PREVAP_2</th>\n",
       "      <th>PREVAP_3</th>\n",
       "      <th>PREVMI_1</th>\n",
       "      <th>PREVMI_2</th>\n",
       "      <th>PREVMI_3</th>\n",
       "      <th>PREVSTRK_1</th>\n",
       "      <th>PREVSTRK_2</th>\n",
       "      <th>PREVSTRK_3</th>\n",
       "      <th>PREVHYP_1</th>\n",
       "      <th>PREVHYP_2</th>\n",
       "      <th>PREVHYP_3</th>\n",
       "      <th>CVD_BY_PERIOD_1</th>\n",
       "      <th>CVD_BY_PERIOD_2</th>\n",
       "      <th>CVD_BY_PERIOD_3</th>\n",
       "    </tr>\n",
       "  </thead>\n",
       "  <tbody>\n",
       "    <tr>\n",
       "      <th>0</th>\n",
       "      <td>2448</td>\n",
       "      <td>202.0</td>\n",
       "      <td>45.5</td>\n",
       "      <td>113.50</td>\n",
       "      <td>68.0</td>\n",
       "      <td>0.0</td>\n",
       "      <td>26.97</td>\n",
       "      <td>74.5</td>\n",
       "      <td>84.5</td>\n",
       "      <td>39.5</td>\n",
       "      <td>173.0</td>\n",
       "      <td>0</td>\n",
       "      <td>4.0</td>\n",
       "      <td>1</td>\n",
       "      <td>39</td>\n",
       "      <td>0</td>\n",
       "      <td>52</td>\n",
       "      <td>0</td>\n",
       "      <td>0</td>\n",
       "      <td>0</td>\n",
       "      <td>0</td>\n",
       "      <td>0</td>\n",
       "      <td>0</td>\n",
       "      <td>0.0</td>\n",
       "      <td>0.0</td>\n",
       "      <td>0.0</td>\n",
       "      <td>0</td>\n",
       "      <td>0</td>\n",
       "      <td>0</td>\n",
       "      <td>0</td>\n",
       "      <td>0</td>\n",
       "      <td>0</td>\n",
       "      <td>0</td>\n",
       "      <td>0</td>\n",
       "      <td>0</td>\n",
       "      <td>0</td>\n",
       "      <td>0</td>\n",
       "      <td>0</td>\n",
       "      <td>0</td>\n",
       "      <td>0</td>\n",
       "      <td>0</td>\n",
       "      <td>0</td>\n",
       "      <td>0</td>\n",
       "      <td>1</td>\n",
       "    </tr>\n",
       "    <tr>\n",
       "      <th>1</th>\n",
       "      <td>6238</td>\n",
       "      <td>250.0</td>\n",
       "      <td>52.0</td>\n",
       "      <td>108.00</td>\n",
       "      <td>69.5</td>\n",
       "      <td>0.0</td>\n",
       "      <td>28.73</td>\n",
       "      <td>80.0</td>\n",
       "      <td>76.0</td>\n",
       "      <td>47.0</td>\n",
       "      <td>165.0</td>\n",
       "      <td>1</td>\n",
       "      <td>2.0</td>\n",
       "      <td>0</td>\n",
       "      <td>46</td>\n",
       "      <td>52</td>\n",
       "      <td>58</td>\n",
       "      <td>0</td>\n",
       "      <td>0</td>\n",
       "      <td>0</td>\n",
       "      <td>0</td>\n",
       "      <td>0</td>\n",
       "      <td>0</td>\n",
       "      <td>0.0</td>\n",
       "      <td>0.0</td>\n",
       "      <td>0.0</td>\n",
       "      <td>0</td>\n",
       "      <td>0</td>\n",
       "      <td>0</td>\n",
       "      <td>0</td>\n",
       "      <td>0</td>\n",
       "      <td>0</td>\n",
       "      <td>0</td>\n",
       "      <td>0</td>\n",
       "      <td>0</td>\n",
       "      <td>0</td>\n",
       "      <td>0</td>\n",
       "      <td>0</td>\n",
       "      <td>0</td>\n",
       "      <td>0</td>\n",
       "      <td>0</td>\n",
       "      <td>0</td>\n",
       "      <td>0</td>\n",
       "      <td>0</td>\n",
       "    </tr>\n",
       "    <tr>\n",
       "      <th>2</th>\n",
       "      <td>9428</td>\n",
       "      <td>264.0</td>\n",
       "      <td>51.0</td>\n",
       "      <td>134.25</td>\n",
       "      <td>84.5</td>\n",
       "      <td>25.0</td>\n",
       "      <td>25.34</td>\n",
       "      <td>75.0</td>\n",
       "      <td>78.5</td>\n",
       "      <td>47.5</td>\n",
       "      <td>175.5</td>\n",
       "      <td>0</td>\n",
       "      <td>1.0</td>\n",
       "      <td>0</td>\n",
       "      <td>48</td>\n",
       "      <td>54</td>\n",
       "      <td>0</td>\n",
       "      <td>1</td>\n",
       "      <td>1</td>\n",
       "      <td>0</td>\n",
       "      <td>0</td>\n",
       "      <td>0</td>\n",
       "      <td>0</td>\n",
       "      <td>0.0</td>\n",
       "      <td>0.0</td>\n",
       "      <td>0.0</td>\n",
       "      <td>0</td>\n",
       "      <td>0</td>\n",
       "      <td>0</td>\n",
       "      <td>0</td>\n",
       "      <td>0</td>\n",
       "      <td>0</td>\n",
       "      <td>0</td>\n",
       "      <td>0</td>\n",
       "      <td>0</td>\n",
       "      <td>0</td>\n",
       "      <td>0</td>\n",
       "      <td>0</td>\n",
       "      <td>0</td>\n",
       "      <td>0</td>\n",
       "      <td>0</td>\n",
       "      <td>0</td>\n",
       "      <td>0</td>\n",
       "      <td>0</td>\n",
       "    </tr>\n",
       "    <tr>\n",
       "      <th>3</th>\n",
       "      <td>10552</td>\n",
       "      <td>228.5</td>\n",
       "      <td>64.0</td>\n",
       "      <td>166.50</td>\n",
       "      <td>102.0</td>\n",
       "      <td>25.0</td>\n",
       "      <td>29.38</td>\n",
       "      <td>62.5</td>\n",
       "      <td>96.0</td>\n",
       "      <td>46.5</td>\n",
       "      <td>178.5</td>\n",
       "      <td>1</td>\n",
       "      <td>3.0</td>\n",
       "      <td>1</td>\n",
       "      <td>61</td>\n",
       "      <td>67</td>\n",
       "      <td>0</td>\n",
       "      <td>1</td>\n",
       "      <td>1</td>\n",
       "      <td>0</td>\n",
       "      <td>0</td>\n",
       "      <td>0</td>\n",
       "      <td>0</td>\n",
       "      <td>0.0</td>\n",
       "      <td>0.0</td>\n",
       "      <td>0.0</td>\n",
       "      <td>0</td>\n",
       "      <td>0</td>\n",
       "      <td>0</td>\n",
       "      <td>0</td>\n",
       "      <td>0</td>\n",
       "      <td>0</td>\n",
       "      <td>0</td>\n",
       "      <td>0</td>\n",
       "      <td>0</td>\n",
       "      <td>0</td>\n",
       "      <td>0</td>\n",
       "      <td>0</td>\n",
       "      <td>1</td>\n",
       "      <td>1</td>\n",
       "      <td>0</td>\n",
       "      <td>0</td>\n",
       "      <td>1</td>\n",
       "      <td>0</td>\n",
       "    </tr>\n",
       "    <tr>\n",
       "      <th>4</th>\n",
       "      <td>11252</td>\n",
       "      <td>285.0</td>\n",
       "      <td>51.0</td>\n",
       "      <td>130.00</td>\n",
       "      <td>84.0</td>\n",
       "      <td>30.0</td>\n",
       "      <td>23.48</td>\n",
       "      <td>85.0</td>\n",
       "      <td>80.0</td>\n",
       "      <td>48.0</td>\n",
       "      <td>178.0</td>\n",
       "      <td>1</td>\n",
       "      <td>3.0</td>\n",
       "      <td>0</td>\n",
       "      <td>46</td>\n",
       "      <td>51</td>\n",
       "      <td>58</td>\n",
       "      <td>1</td>\n",
       "      <td>1</td>\n",
       "      <td>1</td>\n",
       "      <td>0</td>\n",
       "      <td>0</td>\n",
       "      <td>0</td>\n",
       "      <td>0.0</td>\n",
       "      <td>0.0</td>\n",
       "      <td>0.0</td>\n",
       "      <td>0</td>\n",
       "      <td>0</td>\n",
       "      <td>0</td>\n",
       "      <td>0</td>\n",
       "      <td>0</td>\n",
       "      <td>0</td>\n",
       "      <td>0</td>\n",
       "      <td>0</td>\n",
       "      <td>0</td>\n",
       "      <td>0</td>\n",
       "      <td>0</td>\n",
       "      <td>0</td>\n",
       "      <td>0</td>\n",
       "      <td>0</td>\n",
       "      <td>1</td>\n",
       "      <td>0</td>\n",
       "      <td>0</td>\n",
       "      <td>0</td>\n",
       "    </tr>\n",
       "  </tbody>\n",
       "</table>\n",
       "</div>"
      ],
      "text/plain": [
       "   RANDID  TOTCHOL   AGE   SYSBP  DIABP  CIGPDAY    BMI  HEARTRTE  GLUCOSE  \\\n",
       "0    2448    202.0  45.5  113.50   68.0      0.0  26.97      74.5     84.5   \n",
       "1    6238    250.0  52.0  108.00   69.5      0.0  28.73      80.0     76.0   \n",
       "2    9428    264.0  51.0  134.25   84.5     25.0  25.34      75.0     78.5   \n",
       "3   10552    228.5  64.0  166.50  102.0     25.0  29.38      62.5     96.0   \n",
       "4   11252    285.0  51.0  130.00   84.0     30.0  23.48      85.0     80.0   \n",
       "\n",
       "   HDLC   LDLC  SEX  educ  CVD  AGE_1  AGE_2  AGE_3  CURSMOKE_1  CURSMOKE_2  \\\n",
       "0  39.5  173.0    0   4.0    1     39      0     52           0           0   \n",
       "1  47.0  165.0    1   2.0    0     46     52     58           0           0   \n",
       "2  47.5  175.5    0   1.0    0     48     54      0           1           1   \n",
       "3  46.5  178.5    1   3.0    1     61     67      0           1           1   \n",
       "4  48.0  178.0    1   3.0    0     46     51     58           1           1   \n",
       "\n",
       "   CURSMOKE_3  DIABETES_1  DIABETES_2  DIABETES_3  BPMEDS_1  BPMEDS_2  \\\n",
       "0           0           0           0           0       0.0       0.0   \n",
       "1           0           0           0           0       0.0       0.0   \n",
       "2           0           0           0           0       0.0       0.0   \n",
       "3           0           0           0           0       0.0       0.0   \n",
       "4           1           0           0           0       0.0       0.0   \n",
       "\n",
       "   BPMEDS_3  PREVCHD_1  PREVCHD_2  PREVCHD_3  PREVAP_1  PREVAP_2  PREVAP_3  \\\n",
       "0       0.0          0          0          0         0         0         0   \n",
       "1       0.0          0          0          0         0         0         0   \n",
       "2       0.0          0          0          0         0         0         0   \n",
       "3       0.0          0          0          0         0         0         0   \n",
       "4       0.0          0          0          0         0         0         0   \n",
       "\n",
       "   PREVMI_1  PREVMI_2  PREVMI_3  PREVSTRK_1  PREVSTRK_2  PREVSTRK_3  \\\n",
       "0         0         0         0           0           0           0   \n",
       "1         0         0         0           0           0           0   \n",
       "2         0         0         0           0           0           0   \n",
       "3         0         0         0           0           0           0   \n",
       "4         0         0         0           0           0           0   \n",
       "\n",
       "   PREVHYP_1  PREVHYP_2  PREVHYP_3  CVD_BY_PERIOD_1  CVD_BY_PERIOD_2  \\\n",
       "0          0          0          0                0                0   \n",
       "1          0          0          0                0                0   \n",
       "2          0          0          0                0                0   \n",
       "3          1          1          0                0                1   \n",
       "4          0          0          1                0                0   \n",
       "\n",
       "   CVD_BY_PERIOD_3  \n",
       "0                1  \n",
       "1                0  \n",
       "2                0  \n",
       "3                0  \n",
       "4                0  "
      ]
     },
     "execution_count": 7,
     "metadata": {},
     "output_type": "execute_result"
    }
   ],
   "source": [
    "df.head()"
   ]
  },
  {
   "cell_type": "markdown",
   "metadata": {},
   "source": [
    "### Data processing"
   ]
  },
  {
   "cell_type": "markdown",
   "metadata": {},
   "source": [
    "**Reducing memory usage.**<br>"
   ]
  },
  {
   "cell_type": "code",
   "execution_count": 8,
   "metadata": {},
   "outputs": [
    {
     "name": "stdout",
     "output_type": "stream",
     "text": [
      "Memory usage of dataframe is 1.49 MB\n",
      "Memory usage after optimization is: 0.38 MB\n",
      "Decreased by 74.7%\n"
     ]
    }
   ],
   "source": [
    "df = reduce_mem_usage.reduce_mem_usage(df)"
   ]
  },
  {
   "cell_type": "markdown",
   "metadata": {},
   "source": [
    "**Dataframe shuffling.**"
   ]
  },
  {
   "cell_type": "code",
   "execution_count": 9,
   "metadata": {
    "tags": []
   },
   "outputs": [],
   "source": [
    "df = shuffle(df, random_state=RAND)"
   ]
  },
  {
   "cell_type": "markdown",
   "metadata": {},
   "source": [
    "### Baselines"
   ]
  },
  {
   "cell_type": "markdown",
   "metadata": {},
   "source": [
    "**Train / Test / Validation split.**<br>"
   ]
  },
  {
   "cell_type": "code",
   "execution_count": 10,
   "metadata": {
    "tags": []
   },
   "outputs": [],
   "source": [
    "X = df.drop(['CVD', 'CVD_BY_PERIOD_1', 'CVD_BY_PERIOD_2', 'CVD_BY_PERIOD_3'],\n",
    "        axis=1)\n",
    "\n",
    "y = df['CVD']\n",
    "\n",
    "X_train, X_test, y_train, y_test = train_test_split(\n",
    "    X,\n",
    "    y,\n",
    "    test_size=0.25,\n",
    "    shuffle=True,\n",
    "    stratify=y,  # Стратификация.\n",
    "    random_state=RAND)\n",
    "\n",
    "X_train_, X_val, y_train_, y_val = train_test_split(X_train,\n",
    "                                                    y_train,\n",
    "                                                    test_size=0.15,\n",
    "                                                    shuffle=True,\n",
    "                                                    random_state=RAND)"
   ]
  },
  {
   "cell_type": "markdown",
   "metadata": {},
   "source": [
    "**Standart Scaler.**<br>"
   ]
  },
  {
   "cell_type": "code",
   "execution_count": 11,
   "metadata": {
    "tags": []
   },
   "outputs": [],
   "source": [
    "scaler = StandardScaler()\n",
    "X_train_std = scaler.fit_transform(X_train)\n",
    "X_test_std = scaler.transform(X_test)"
   ]
  },
  {
   "cell_type": "markdown",
   "metadata": {},
   "source": [
    "**Ratio calculation for scale pos weight.**<br>"
   ]
  },
  {
   "cell_type": "code",
   "execution_count": 12,
   "metadata": {
    "tags": []
   },
   "outputs": [],
   "source": [
    "# Calculate ratio for parameter scale_pos_weight.\n",
    "\n",
    "# v. 1\n",
    "sum_positive = sum(y == 1)\n",
    "sum_negative = sum(y == 0)\n",
    "ratio = sum_negative / sum_positive\n",
    "\n",
    "# v. 2\n",
    "# dtrain = xgb.DMatrix(X_train, label=y_train)\n",
    "# train_labels = dtrain.get_label()\n",
    "# ratio = float(np.sum(train_labels == 0)) / np.sum(train_labels == 1)"
   ]
  },
  {
   "cell_type": "markdown",
   "metadata": {},
   "source": [
    "**Logistic Regression. Baseline.**<br>"
   ]
  },
  {
   "cell_type": "code",
   "execution_count": 13,
   "metadata": {
    "tags": []
   },
   "outputs": [],
   "source": [
    "pipeline = Pipeline([\n",
    "    ('scaler', StandardScaler()),\n",
    "    ('classifier', LogisticRegression(random_state=10))\n",
    "])\n",
    "\n",
    "pipeline.fit(X_train, y_train)\n",
    "\n",
    "y_pred = pipeline.predict(X_test)\n",
    "y_score = pipeline.predict_proba(X_test)"
   ]
  },
  {
   "cell_type": "code",
   "execution_count": 14,
   "metadata": {
    "tags": []
   },
   "outputs": [
    {
     "data": {
      "text/html": [
       "<div>\n",
       "<style scoped>\n",
       "    .dataframe tbody tr th:only-of-type {\n",
       "        vertical-align: middle;\n",
       "    }\n",
       "\n",
       "    .dataframe tbody tr th {\n",
       "        vertical-align: top;\n",
       "    }\n",
       "\n",
       "    .dataframe thead th {\n",
       "        text-align: right;\n",
       "    }\n",
       "</style>\n",
       "<table border=\"1\" class=\"dataframe\">\n",
       "  <thead>\n",
       "    <tr style=\"text-align: right;\">\n",
       "      <th></th>\n",
       "      <th>Accuracy</th>\n",
       "      <th>ROC_AUC</th>\n",
       "      <th>Precision</th>\n",
       "      <th>Recall</th>\n",
       "      <th>f1</th>\n",
       "      <th>Logloss</th>\n",
       "    </tr>\n",
       "    <tr>\n",
       "      <th>model</th>\n",
       "      <th></th>\n",
       "      <th></th>\n",
       "      <th></th>\n",
       "      <th></th>\n",
       "      <th></th>\n",
       "      <th></th>\n",
       "    </tr>\n",
       "  </thead>\n",
       "  <tbody>\n",
       "    <tr>\n",
       "      <th>Logistic Regression</th>\n",
       "      <td>0.812</td>\n",
       "      <td>0.829</td>\n",
       "      <td>0.779</td>\n",
       "      <td>0.391</td>\n",
       "      <td>0.521</td>\n",
       "      <td>0.405</td>\n",
       "    </tr>\n",
       "  </tbody>\n",
       "</table>\n",
       "</div>"
      ],
      "text/plain": [
       "                     Accuracy  ROC_AUC  Precision  Recall     f1  Logloss\n",
       "model                                                                    \n",
       "Logistic Regression     0.812    0.829      0.779   0.391  0.521    0.405"
      ]
     },
     "execution_count": 14,
     "metadata": {},
     "output_type": "execute_result"
    }
   ],
   "source": [
    "metrics = get_metrics.get_metrics_classification(y_test,\n",
    "                                                 y_pred,\n",
    "                                                 y_score,\n",
    "                                                 name='Logistic Regression')\n",
    "\n",
    "round(metrics.set_index('model'), 3)"
   ]
  },
  {
   "cell_type": "markdown",
   "metadata": {},
   "source": [
    "<div class=\"alert alert-block alert-info\"> \n",
    "<b>Comments</b><br>\n",
    "- We changed RAND = 50, shuffled dataframe and metric is better - 0.829 vs. 0.809 (baseline with RAND = 10).<br>\n",
    "</div>"
   ]
  },
  {
   "cell_type": "markdown",
   "metadata": {},
   "source": [
    "**CatBoost. Baseline.**<br>"
   ]
  },
  {
   "cell_type": "code",
   "execution_count": 15,
   "metadata": {
    "tags": []
   },
   "outputs": [],
   "source": [
    "cb_classifier = CatBoostClassifier(scale_pos_weight=ratio,\n",
    "                                   eval_metric='AUC',\n",
    "                                   allow_writing_files=False,\n",
    "                                   random_state=RAND)\n",
    "\n",
    "eval_set = [(X_val, y_val)]\n",
    "\n",
    "cb_classifier.fit(X_train_,\n",
    "                  y_train_,\n",
    "                  eval_set=eval_set,\n",
    "                  early_stopping_rounds=100,\n",
    "                  verbose=False)\n",
    "\n",
    "y_pred = cb_classifier.predict(X_test)\n",
    "y_score = cb_classifier.predict_proba(X_test)"
   ]
  },
  {
   "cell_type": "code",
   "execution_count": 16,
   "metadata": {
    "tags": []
   },
   "outputs": [
    {
     "data": {
      "text/html": [
       "<div>\n",
       "<style scoped>\n",
       "    .dataframe tbody tr th:only-of-type {\n",
       "        vertical-align: middle;\n",
       "    }\n",
       "\n",
       "    .dataframe tbody tr th {\n",
       "        vertical-align: top;\n",
       "    }\n",
       "\n",
       "    .dataframe thead th {\n",
       "        text-align: right;\n",
       "    }\n",
       "</style>\n",
       "<table border=\"1\" class=\"dataframe\">\n",
       "  <thead>\n",
       "    <tr style=\"text-align: right;\">\n",
       "      <th></th>\n",
       "      <th>Accuracy</th>\n",
       "      <th>ROC_AUC</th>\n",
       "      <th>Precision</th>\n",
       "      <th>Recall</th>\n",
       "      <th>f1</th>\n",
       "      <th>Logloss</th>\n",
       "    </tr>\n",
       "    <tr>\n",
       "      <th>model</th>\n",
       "      <th></th>\n",
       "      <th></th>\n",
       "      <th></th>\n",
       "      <th></th>\n",
       "      <th></th>\n",
       "      <th></th>\n",
       "    </tr>\n",
       "  </thead>\n",
       "  <tbody>\n",
       "    <tr>\n",
       "      <th>Logistic Regression</th>\n",
       "      <td>0.812</td>\n",
       "      <td>0.829</td>\n",
       "      <td>0.779</td>\n",
       "      <td>0.391</td>\n",
       "      <td>0.521</td>\n",
       "      <td>0.405</td>\n",
       "    </tr>\n",
       "    <tr>\n",
       "      <th>CatBoost</th>\n",
       "      <td>0.752</td>\n",
       "      <td>0.815</td>\n",
       "      <td>0.519</td>\n",
       "      <td>0.654</td>\n",
       "      <td>0.579</td>\n",
       "      <td>0.486</td>\n",
       "    </tr>\n",
       "  </tbody>\n",
       "</table>\n",
       "</div>"
      ],
      "text/plain": [
       "                     Accuracy  ROC_AUC  Precision  Recall     f1  Logloss\n",
       "model                                                                    \n",
       "Logistic Regression     0.812    0.829      0.779   0.391  0.521    0.405\n",
       "CatBoost                0.752    0.815      0.519   0.654  0.579    0.486"
      ]
     },
     "execution_count": 16,
     "metadata": {},
     "output_type": "execute_result"
    }
   ],
   "source": [
    "metrics = pd.concat([\n",
    "    metrics,\n",
    "    get_metrics.get_metrics_classification(y_test,\n",
    "                                           y_pred,\n",
    "                                           y_score,\n",
    "                                           name='CatBoost')\n",
    "])\n",
    "\n",
    "round(metrics.set_index('model'), 3)"
   ]
  },
  {
   "cell_type": "markdown",
   "metadata": {},
   "source": [
    "<div class=\"alert alert-block alert-info\"> \n",
    "<b>Comments</b><br>\n",
    "- We changed RAND = 50, shuffled dataframe and metric is better - 0.815 vs. 0.802 (baseline with RAND = 10).<br>\n",
    "</div>"
   ]
  },
  {
   "cell_type": "markdown",
   "metadata": {},
   "source": [
    "### Tuning"
   ]
  },
  {
   "cell_type": "markdown",
   "metadata": {},
   "source": [
    "**Logistic Regression. Tuning.**<br>"
   ]
  },
  {
   "cell_type": "code",
   "execution_count": 17,
   "metadata": {},
   "outputs": [],
   "source": [
    "parameters_grid = {\n",
    "    'C' : np.logspace(-4, 4, 20), # Regularization strength.\n",
    "    'penalty' : ['l1', 'l2', 'elasticnet', 'none'], # Regularization type (L1 or L2).\n",
    "    'solver' : ['lbfgs', 'newton-cg', 'liblinear', 'sag', 'saga'], # Optimization algorithm.\n",
    "    'max_iter' : [100, 1000, 2500, 5000], # Maximum iterations for convergence.\n",
    "    'random_state': [RAND]\n",
    "}\n",
    "\n",
    "lg_random_tuning = LogisticRegression(random_state=RAND)\n",
    "cv = StratifiedKFold(n_splits=N_FOLDS, shuffle=True, random_state=RAND)\n",
    "\n",
    "rand_cv_lg = RandomizedSearchCV(lg_random_tuning,\n",
    "                                parameters_grid,\n",
    "                                scoring='roc_auc',\n",
    "                                cv=cv,\n",
    "                                verbose=1)"
   ]
  },
  {
   "cell_type": "code",
   "execution_count": 18,
   "metadata": {
    "tags": []
   },
   "outputs": [
    {
     "name": "stdout",
     "output_type": "stream",
     "text": [
      "Fitting 5 folds for each of 10 candidates, totalling 50 fits\n",
      "CPU times: user 8.54 s, sys: 1.08 s, total: 9.62 s\n",
      "Wall time: 5.7 s\n"
     ]
    },
    {
     "data": {
      "text/html": [
       "<style>#sk-container-id-1 {color: black;}#sk-container-id-1 pre{padding: 0;}#sk-container-id-1 div.sk-toggleable {background-color: white;}#sk-container-id-1 label.sk-toggleable__label {cursor: pointer;display: block;width: 100%;margin-bottom: 0;padding: 0.3em;box-sizing: border-box;text-align: center;}#sk-container-id-1 label.sk-toggleable__label-arrow:before {content: \"▸\";float: left;margin-right: 0.25em;color: #696969;}#sk-container-id-1 label.sk-toggleable__label-arrow:hover:before {color: black;}#sk-container-id-1 div.sk-estimator:hover label.sk-toggleable__label-arrow:before {color: black;}#sk-container-id-1 div.sk-toggleable__content {max-height: 0;max-width: 0;overflow: hidden;text-align: left;background-color: #f0f8ff;}#sk-container-id-1 div.sk-toggleable__content pre {margin: 0.2em;color: black;border-radius: 0.25em;background-color: #f0f8ff;}#sk-container-id-1 input.sk-toggleable__control:checked~div.sk-toggleable__content {max-height: 200px;max-width: 100%;overflow: auto;}#sk-container-id-1 input.sk-toggleable__control:checked~label.sk-toggleable__label-arrow:before {content: \"▾\";}#sk-container-id-1 div.sk-estimator input.sk-toggleable__control:checked~label.sk-toggleable__label {background-color: #d4ebff;}#sk-container-id-1 div.sk-label input.sk-toggleable__control:checked~label.sk-toggleable__label {background-color: #d4ebff;}#sk-container-id-1 input.sk-hidden--visually {border: 0;clip: rect(1px 1px 1px 1px);clip: rect(1px, 1px, 1px, 1px);height: 1px;margin: -1px;overflow: hidden;padding: 0;position: absolute;width: 1px;}#sk-container-id-1 div.sk-estimator {font-family: monospace;background-color: #f0f8ff;border: 1px dotted black;border-radius: 0.25em;box-sizing: border-box;margin-bottom: 0.5em;}#sk-container-id-1 div.sk-estimator:hover {background-color: #d4ebff;}#sk-container-id-1 div.sk-parallel-item::after {content: \"\";width: 100%;border-bottom: 1px solid gray;flex-grow: 1;}#sk-container-id-1 div.sk-label:hover label.sk-toggleable__label {background-color: #d4ebff;}#sk-container-id-1 div.sk-serial::before {content: \"\";position: absolute;border-left: 1px solid gray;box-sizing: border-box;top: 0;bottom: 0;left: 50%;z-index: 0;}#sk-container-id-1 div.sk-serial {display: flex;flex-direction: column;align-items: center;background-color: white;padding-right: 0.2em;padding-left: 0.2em;position: relative;}#sk-container-id-1 div.sk-item {position: relative;z-index: 1;}#sk-container-id-1 div.sk-parallel {display: flex;align-items: stretch;justify-content: center;background-color: white;position: relative;}#sk-container-id-1 div.sk-item::before, #sk-container-id-1 div.sk-parallel-item::before {content: \"\";position: absolute;border-left: 1px solid gray;box-sizing: border-box;top: 0;bottom: 0;left: 50%;z-index: -1;}#sk-container-id-1 div.sk-parallel-item {display: flex;flex-direction: column;z-index: 1;position: relative;background-color: white;}#sk-container-id-1 div.sk-parallel-item:first-child::after {align-self: flex-end;width: 50%;}#sk-container-id-1 div.sk-parallel-item:last-child::after {align-self: flex-start;width: 50%;}#sk-container-id-1 div.sk-parallel-item:only-child::after {width: 0;}#sk-container-id-1 div.sk-dashed-wrapped {border: 1px dashed gray;margin: 0 0.4em 0.5em 0.4em;box-sizing: border-box;padding-bottom: 0.4em;background-color: white;}#sk-container-id-1 div.sk-label label {font-family: monospace;font-weight: bold;display: inline-block;line-height: 1.2em;}#sk-container-id-1 div.sk-label-container {text-align: center;}#sk-container-id-1 div.sk-container {/* jupyter's `normalize.less` sets `[hidden] { display: none; }` but bootstrap.min.css set `[hidden] { display: none !important; }` so we also need the `!important` here to be able to override the default hidden behavior on the sphinx rendered scikit-learn.org. See: https://github.com/scikit-learn/scikit-learn/issues/21755 */display: inline-block !important;position: relative;}#sk-container-id-1 div.sk-text-repr-fallback {display: none;}</style><div id=\"sk-container-id-1\" class=\"sk-top-container\"><div class=\"sk-text-repr-fallback\"><pre>RandomizedSearchCV(cv=StratifiedKFold(n_splits=5, random_state=50, shuffle=True),\n",
       "                   estimator=LogisticRegression(random_state=50),\n",
       "                   param_distributions={&#x27;C&#x27;: array([1.00000000e-04, 2.63665090e-04, 6.95192796e-04, 1.83298071e-03,\n",
       "       4.83293024e-03, 1.27427499e-02, 3.35981829e-02, 8.85866790e-02,\n",
       "       2.33572147e-01, 6.15848211e-01, 1.62377674e+00, 4.28133240e+00,\n",
       "       1.12883789e+01, 2.97635144e+01, 7.84759970e+01, 2.06913808e+02,\n",
       "       5.45559478e+02, 1.43844989e+03, 3.79269019e+03, 1.00000000e+04]),\n",
       "                                        &#x27;max_iter&#x27;: [100, 1000, 2500, 5000],\n",
       "                                        &#x27;penalty&#x27;: [&#x27;l1&#x27;, &#x27;l2&#x27;, &#x27;elasticnet&#x27;,\n",
       "                                                    &#x27;none&#x27;],\n",
       "                                        &#x27;random_state&#x27;: [50],\n",
       "                                        &#x27;solver&#x27;: [&#x27;lbfgs&#x27;, &#x27;newton-cg&#x27;,\n",
       "                                                   &#x27;liblinear&#x27;, &#x27;sag&#x27;,\n",
       "                                                   &#x27;saga&#x27;]},\n",
       "                   scoring=&#x27;roc_auc&#x27;, verbose=1)</pre><b>In a Jupyter environment, please rerun this cell to show the HTML representation or trust the notebook. <br />On GitHub, the HTML representation is unable to render, please try loading this page with nbviewer.org.</b></div><div class=\"sk-container\" hidden><div class=\"sk-item sk-dashed-wrapped\"><div class=\"sk-label-container\"><div class=\"sk-label sk-toggleable\"><input class=\"sk-toggleable__control sk-hidden--visually\" id=\"sk-estimator-id-1\" type=\"checkbox\" ><label for=\"sk-estimator-id-1\" class=\"sk-toggleable__label sk-toggleable__label-arrow\">RandomizedSearchCV</label><div class=\"sk-toggleable__content\"><pre>RandomizedSearchCV(cv=StratifiedKFold(n_splits=5, random_state=50, shuffle=True),\n",
       "                   estimator=LogisticRegression(random_state=50),\n",
       "                   param_distributions={&#x27;C&#x27;: array([1.00000000e-04, 2.63665090e-04, 6.95192796e-04, 1.83298071e-03,\n",
       "       4.83293024e-03, 1.27427499e-02, 3.35981829e-02, 8.85866790e-02,\n",
       "       2.33572147e-01, 6.15848211e-01, 1.62377674e+00, 4.28133240e+00,\n",
       "       1.12883789e+01, 2.97635144e+01, 7.84759970e+01, 2.06913808e+02,\n",
       "       5.45559478e+02, 1.43844989e+03, 3.79269019e+03, 1.00000000e+04]),\n",
       "                                        &#x27;max_iter&#x27;: [100, 1000, 2500, 5000],\n",
       "                                        &#x27;penalty&#x27;: [&#x27;l1&#x27;, &#x27;l2&#x27;, &#x27;elasticnet&#x27;,\n",
       "                                                    &#x27;none&#x27;],\n",
       "                                        &#x27;random_state&#x27;: [50],\n",
       "                                        &#x27;solver&#x27;: [&#x27;lbfgs&#x27;, &#x27;newton-cg&#x27;,\n",
       "                                                   &#x27;liblinear&#x27;, &#x27;sag&#x27;,\n",
       "                                                   &#x27;saga&#x27;]},\n",
       "                   scoring=&#x27;roc_auc&#x27;, verbose=1)</pre></div></div></div><div class=\"sk-parallel\"><div class=\"sk-parallel-item\"><div class=\"sk-item\"><div class=\"sk-label-container\"><div class=\"sk-label sk-toggleable\"><input class=\"sk-toggleable__control sk-hidden--visually\" id=\"sk-estimator-id-2\" type=\"checkbox\" ><label for=\"sk-estimator-id-2\" class=\"sk-toggleable__label sk-toggleable__label-arrow\">estimator: LogisticRegression</label><div class=\"sk-toggleable__content\"><pre>LogisticRegression(random_state=50)</pre></div></div></div><div class=\"sk-serial\"><div class=\"sk-item\"><div class=\"sk-estimator sk-toggleable\"><input class=\"sk-toggleable__control sk-hidden--visually\" id=\"sk-estimator-id-3\" type=\"checkbox\" ><label for=\"sk-estimator-id-3\" class=\"sk-toggleable__label sk-toggleable__label-arrow\">LogisticRegression</label><div class=\"sk-toggleable__content\"><pre>LogisticRegression(random_state=50)</pre></div></div></div></div></div></div></div></div></div></div>"
      ],
      "text/plain": [
       "RandomizedSearchCV(cv=StratifiedKFold(n_splits=5, random_state=50, shuffle=True),\n",
       "                   estimator=LogisticRegression(random_state=50),\n",
       "                   param_distributions={'C': array([1.00000000e-04, 2.63665090e-04, 6.95192796e-04, 1.83298071e-03,\n",
       "       4.83293024e-03, 1.27427499e-02, 3.35981829e-02, 8.85866790e-02,\n",
       "       2.33572147e-01, 6.15848211e-01, 1.62377674e+00, 4.28133240e+00,\n",
       "       1.12883789e+01, 2.97635144e+01, 7.84759970e+01, 2.06913808e+02,\n",
       "       5.45559478e+02, 1.43844989e+03, 3.79269019e+03, 1.00000000e+04]),\n",
       "                                        'max_iter': [100, 1000, 2500, 5000],\n",
       "                                        'penalty': ['l1', 'l2', 'elasticnet',\n",
       "                                                    'none'],\n",
       "                                        'random_state': [50],\n",
       "                                        'solver': ['lbfgs', 'newton-cg',\n",
       "                                                   'liblinear', 'sag',\n",
       "                                                   'saga']},\n",
       "                   scoring='roc_auc', verbose=1)"
      ]
     },
     "execution_count": 18,
     "metadata": {},
     "output_type": "execute_result"
    }
   ],
   "source": [
    "%%time\n",
    "rand_cv_lg.fit(X_train_std, y_train)"
   ]
  },
  {
   "cell_type": "code",
   "execution_count": 19,
   "metadata": {
    "tags": []
   },
   "outputs": [
    {
     "name": "stdout",
     "output_type": "stream",
     "text": [
      "Best parameter values: {'solver': 'newton-cg', 'random_state': 50, 'penalty': 'l2', 'max_iter': 1000, 'C': 4.281332398719396}\n",
      "Best score: 0.8120632661858462\n"
     ]
    }
   ],
   "source": [
    "print(f'Best parameter values: {rand_cv_lg.best_params_}')\n",
    "print(f'Best score: {rand_cv_lg.best_score_}')"
   ]
  },
  {
   "cell_type": "code",
   "execution_count": 20,
   "metadata": {
    "tags": []
   },
   "outputs": [],
   "source": [
    "lg = LogisticRegression(**rand_cv_lg.best_params_)\n",
    "lg.fit(X_train_std, y_train)\n",
    "\n",
    "y_pred = lg.predict(X_test_std)\n",
    "y_score = lg.predict_proba(X_test_std)"
   ]
  },
  {
   "cell_type": "code",
   "execution_count": 21,
   "metadata": {
    "tags": []
   },
   "outputs": [
    {
     "data": {
      "text/html": [
       "<div>\n",
       "<style scoped>\n",
       "    .dataframe tbody tr th:only-of-type {\n",
       "        vertical-align: middle;\n",
       "    }\n",
       "\n",
       "    .dataframe tbody tr th {\n",
       "        vertical-align: top;\n",
       "    }\n",
       "\n",
       "    .dataframe thead th {\n",
       "        text-align: right;\n",
       "    }\n",
       "</style>\n",
       "<table border=\"1\" class=\"dataframe\">\n",
       "  <thead>\n",
       "    <tr style=\"text-align: right;\">\n",
       "      <th></th>\n",
       "      <th>Accuracy</th>\n",
       "      <th>ROC_AUC</th>\n",
       "      <th>Precision</th>\n",
       "      <th>Recall</th>\n",
       "      <th>f1</th>\n",
       "      <th>Logloss</th>\n",
       "    </tr>\n",
       "    <tr>\n",
       "      <th>model</th>\n",
       "      <th></th>\n",
       "      <th></th>\n",
       "      <th></th>\n",
       "      <th></th>\n",
       "      <th></th>\n",
       "      <th></th>\n",
       "    </tr>\n",
       "  </thead>\n",
       "  <tbody>\n",
       "    <tr>\n",
       "      <th>Logistic Regression</th>\n",
       "      <td>0.812</td>\n",
       "      <td>0.829</td>\n",
       "      <td>0.779</td>\n",
       "      <td>0.391</td>\n",
       "      <td>0.521</td>\n",
       "      <td>0.405</td>\n",
       "    </tr>\n",
       "    <tr>\n",
       "      <th>CatBoost</th>\n",
       "      <td>0.752</td>\n",
       "      <td>0.815</td>\n",
       "      <td>0.519</td>\n",
       "      <td>0.654</td>\n",
       "      <td>0.579</td>\n",
       "      <td>0.486</td>\n",
       "    </tr>\n",
       "    <tr>\n",
       "      <th>Logistic Regression RandomCV</th>\n",
       "      <td>0.812</td>\n",
       "      <td>0.830</td>\n",
       "      <td>0.779</td>\n",
       "      <td>0.391</td>\n",
       "      <td>0.521</td>\n",
       "      <td>0.405</td>\n",
       "    </tr>\n",
       "  </tbody>\n",
       "</table>\n",
       "</div>"
      ],
      "text/plain": [
       "                              Accuracy  ROC_AUC  Precision  Recall     f1  \\\n",
       "model                                                                       \n",
       "Logistic Regression              0.812    0.829      0.779   0.391  0.521   \n",
       "CatBoost                         0.752    0.815      0.519   0.654  0.579   \n",
       "Logistic Regression RandomCV     0.812    0.830      0.779   0.391  0.521   \n",
       "\n",
       "                              Logloss  \n",
       "model                                  \n",
       "Logistic Regression             0.405  \n",
       "CatBoost                        0.486  \n",
       "Logistic Regression RandomCV    0.405  "
      ]
     },
     "execution_count": 21,
     "metadata": {},
     "output_type": "execute_result"
    }
   ],
   "source": [
    "metrics = pd.concat([\n",
    "    metrics,\n",
    "    get_metrics.get_metrics_classification(y_test,\n",
    "                                           y_pred,\n",
    "                                           y_score,\n",
    "                                           name='Logistic Regression RandomCV')\n",
    "])\n",
    "\n",
    "round(metrics.set_index('model'), 3)"
   ]
  },
  {
   "cell_type": "markdown",
   "metadata": {},
   "source": [
    "<div class=\"alert alert-block alert-info\"> \n",
    "<b>Comments</b><br>\n",
    "- Logistic Regression RandomCV metric is better.<br>\n",
    "</div>"
   ]
  },
  {
   "cell_type": "markdown",
   "metadata": {},
   "source": [
    "**CatBoost. Tuning.**<br>"
   ]
  },
  {
   "cell_type": "code",
   "execution_count": 22,
   "metadata": {
    "tags": []
   },
   "outputs": [],
   "source": [
    "parameters_grid = {\n",
    "    # 'n_estimators': list(range(100, 1100, 100)),\n",
    "    # 'learning_rate': np.linspace(0.001, 1, 1000),\n",
    "    'n_estimators': [300],\n",
    "    'learning_rate': [0.083],\n",
    "    'eval_metric': ['AUC'],\n",
    "    'scale_pos_weight': [ratio],\n",
    "    'allow_writing_files': [False],\n",
    "    'random_state': [RAND],\n",
    "    'verbose': [False]\n",
    "}\n",
    "\n",
    "cb_random_tuning = CatBoostClassifier(random_state=RAND)\n",
    "cv = StratifiedKFold(n_splits=N_FOLDS, shuffle=True, random_state=RAND)\n",
    "\n",
    "rand_cv_catboost = RandomizedSearchCV(cb_random_tuning,\n",
    "                                      parameters_grid,\n",
    "                                      scoring='roc_auc',\n",
    "                                      cv=cv,\n",
    "                                      verbose=False)"
   ]
  },
  {
   "cell_type": "code",
   "execution_count": 23,
   "metadata": {
    "tags": []
   },
   "outputs": [
    {
     "name": "stdout",
     "output_type": "stream",
     "text": [
      "CPU times: user 12.3 s, sys: 1.22 s, total: 13.6 s\n",
      "Wall time: 2.46 s\n"
     ]
    },
    {
     "data": {
      "text/html": [
       "<style>#sk-container-id-2 {color: black;}#sk-container-id-2 pre{padding: 0;}#sk-container-id-2 div.sk-toggleable {background-color: white;}#sk-container-id-2 label.sk-toggleable__label {cursor: pointer;display: block;width: 100%;margin-bottom: 0;padding: 0.3em;box-sizing: border-box;text-align: center;}#sk-container-id-2 label.sk-toggleable__label-arrow:before {content: \"▸\";float: left;margin-right: 0.25em;color: #696969;}#sk-container-id-2 label.sk-toggleable__label-arrow:hover:before {color: black;}#sk-container-id-2 div.sk-estimator:hover label.sk-toggleable__label-arrow:before {color: black;}#sk-container-id-2 div.sk-toggleable__content {max-height: 0;max-width: 0;overflow: hidden;text-align: left;background-color: #f0f8ff;}#sk-container-id-2 div.sk-toggleable__content pre {margin: 0.2em;color: black;border-radius: 0.25em;background-color: #f0f8ff;}#sk-container-id-2 input.sk-toggleable__control:checked~div.sk-toggleable__content {max-height: 200px;max-width: 100%;overflow: auto;}#sk-container-id-2 input.sk-toggleable__control:checked~label.sk-toggleable__label-arrow:before {content: \"▾\";}#sk-container-id-2 div.sk-estimator input.sk-toggleable__control:checked~label.sk-toggleable__label {background-color: #d4ebff;}#sk-container-id-2 div.sk-label input.sk-toggleable__control:checked~label.sk-toggleable__label {background-color: #d4ebff;}#sk-container-id-2 input.sk-hidden--visually {border: 0;clip: rect(1px 1px 1px 1px);clip: rect(1px, 1px, 1px, 1px);height: 1px;margin: -1px;overflow: hidden;padding: 0;position: absolute;width: 1px;}#sk-container-id-2 div.sk-estimator {font-family: monospace;background-color: #f0f8ff;border: 1px dotted black;border-radius: 0.25em;box-sizing: border-box;margin-bottom: 0.5em;}#sk-container-id-2 div.sk-estimator:hover {background-color: #d4ebff;}#sk-container-id-2 div.sk-parallel-item::after {content: \"\";width: 100%;border-bottom: 1px solid gray;flex-grow: 1;}#sk-container-id-2 div.sk-label:hover label.sk-toggleable__label {background-color: #d4ebff;}#sk-container-id-2 div.sk-serial::before {content: \"\";position: absolute;border-left: 1px solid gray;box-sizing: border-box;top: 0;bottom: 0;left: 50%;z-index: 0;}#sk-container-id-2 div.sk-serial {display: flex;flex-direction: column;align-items: center;background-color: white;padding-right: 0.2em;padding-left: 0.2em;position: relative;}#sk-container-id-2 div.sk-item {position: relative;z-index: 1;}#sk-container-id-2 div.sk-parallel {display: flex;align-items: stretch;justify-content: center;background-color: white;position: relative;}#sk-container-id-2 div.sk-item::before, #sk-container-id-2 div.sk-parallel-item::before {content: \"\";position: absolute;border-left: 1px solid gray;box-sizing: border-box;top: 0;bottom: 0;left: 50%;z-index: -1;}#sk-container-id-2 div.sk-parallel-item {display: flex;flex-direction: column;z-index: 1;position: relative;background-color: white;}#sk-container-id-2 div.sk-parallel-item:first-child::after {align-self: flex-end;width: 50%;}#sk-container-id-2 div.sk-parallel-item:last-child::after {align-self: flex-start;width: 50%;}#sk-container-id-2 div.sk-parallel-item:only-child::after {width: 0;}#sk-container-id-2 div.sk-dashed-wrapped {border: 1px dashed gray;margin: 0 0.4em 0.5em 0.4em;box-sizing: border-box;padding-bottom: 0.4em;background-color: white;}#sk-container-id-2 div.sk-label label {font-family: monospace;font-weight: bold;display: inline-block;line-height: 1.2em;}#sk-container-id-2 div.sk-label-container {text-align: center;}#sk-container-id-2 div.sk-container {/* jupyter's `normalize.less` sets `[hidden] { display: none; }` but bootstrap.min.css set `[hidden] { display: none !important; }` so we also need the `!important` here to be able to override the default hidden behavior on the sphinx rendered scikit-learn.org. See: https://github.com/scikit-learn/scikit-learn/issues/21755 */display: inline-block !important;position: relative;}#sk-container-id-2 div.sk-text-repr-fallback {display: none;}</style><div id=\"sk-container-id-2\" class=\"sk-top-container\"><div class=\"sk-text-repr-fallback\"><pre>RandomizedSearchCV(cv=StratifiedKFold(n_splits=5, random_state=50, shuffle=True),\n",
       "                   estimator=&lt;catboost.core.CatBoostClassifier object at 0x1357c3490&gt;,\n",
       "                   param_distributions={&#x27;allow_writing_files&#x27;: [False],\n",
       "                                        &#x27;eval_metric&#x27;: [&#x27;AUC&#x27;],\n",
       "                                        &#x27;learning_rate&#x27;: [0.083],\n",
       "                                        &#x27;n_estimators&#x27;: [300],\n",
       "                                        &#x27;random_state&#x27;: [50],\n",
       "                                        &#x27;scale_pos_weight&#x27;: [2.832324978392394],\n",
       "                                        &#x27;verbose&#x27;: [False]},\n",
       "                   scoring=&#x27;roc_auc&#x27;, verbose=False)</pre><b>In a Jupyter environment, please rerun this cell to show the HTML representation or trust the notebook. <br />On GitHub, the HTML representation is unable to render, please try loading this page with nbviewer.org.</b></div><div class=\"sk-container\" hidden><div class=\"sk-item sk-dashed-wrapped\"><div class=\"sk-label-container\"><div class=\"sk-label sk-toggleable\"><input class=\"sk-toggleable__control sk-hidden--visually\" id=\"sk-estimator-id-4\" type=\"checkbox\" ><label for=\"sk-estimator-id-4\" class=\"sk-toggleable__label sk-toggleable__label-arrow\">RandomizedSearchCV</label><div class=\"sk-toggleable__content\"><pre>RandomizedSearchCV(cv=StratifiedKFold(n_splits=5, random_state=50, shuffle=True),\n",
       "                   estimator=&lt;catboost.core.CatBoostClassifier object at 0x1357c3490&gt;,\n",
       "                   param_distributions={&#x27;allow_writing_files&#x27;: [False],\n",
       "                                        &#x27;eval_metric&#x27;: [&#x27;AUC&#x27;],\n",
       "                                        &#x27;learning_rate&#x27;: [0.083],\n",
       "                                        &#x27;n_estimators&#x27;: [300],\n",
       "                                        &#x27;random_state&#x27;: [50],\n",
       "                                        &#x27;scale_pos_weight&#x27;: [2.832324978392394],\n",
       "                                        &#x27;verbose&#x27;: [False]},\n",
       "                   scoring=&#x27;roc_auc&#x27;, verbose=False)</pre></div></div></div><div class=\"sk-parallel\"><div class=\"sk-parallel-item\"><div class=\"sk-item\"><div class=\"sk-label-container\"><div class=\"sk-label sk-toggleable\"><input class=\"sk-toggleable__control sk-hidden--visually\" id=\"sk-estimator-id-5\" type=\"checkbox\" ><label for=\"sk-estimator-id-5\" class=\"sk-toggleable__label sk-toggleable__label-arrow\">estimator: CatBoostClassifier</label><div class=\"sk-toggleable__content\"><pre>&lt;catboost.core.CatBoostClassifier object at 0x1357c3490&gt;</pre></div></div></div><div class=\"sk-serial\"><div class=\"sk-item\"><div class=\"sk-estimator sk-toggleable\"><input class=\"sk-toggleable__control sk-hidden--visually\" id=\"sk-estimator-id-6\" type=\"checkbox\" ><label for=\"sk-estimator-id-6\" class=\"sk-toggleable__label sk-toggleable__label-arrow\">CatBoostClassifier</label><div class=\"sk-toggleable__content\"><pre>&lt;catboost.core.CatBoostClassifier object at 0x1357c3490&gt;</pre></div></div></div></div></div></div></div></div></div></div>"
      ],
      "text/plain": [
       "RandomizedSearchCV(cv=StratifiedKFold(n_splits=5, random_state=50, shuffle=True),\n",
       "                   estimator=<catboost.core.CatBoostClassifier object at 0x1357c3490>,\n",
       "                   param_distributions={'allow_writing_files': [False],\n",
       "                                        'eval_metric': ['AUC'],\n",
       "                                        'learning_rate': [0.083],\n",
       "                                        'n_estimators': [300],\n",
       "                                        'random_state': [50],\n",
       "                                        'scale_pos_weight': [2.832324978392394],\n",
       "                                        'verbose': [False]},\n",
       "                   scoring='roc_auc', verbose=False)"
      ]
     },
     "execution_count": 23,
     "metadata": {},
     "output_type": "execute_result"
    }
   ],
   "source": [
    "%%time\n",
    "rand_cv_catboost.fit(X_train_, y_train_)"
   ]
  },
  {
   "cell_type": "code",
   "execution_count": 24,
   "metadata": {
    "tags": []
   },
   "outputs": [
    {
     "name": "stdout",
     "output_type": "stream",
     "text": [
      "Best parameter values: {'verbose': False, 'scale_pos_weight': 2.832324978392394, 'random_state': 50, 'n_estimators': 300, 'learning_rate': 0.083, 'eval_metric': 'AUC', 'allow_writing_files': False}\n",
      "Best score: 0.7893652007020727\n"
     ]
    }
   ],
   "source": [
    "print(f'Best parameter values: {rand_cv_catboost.best_params_}')\n",
    "print(f'Best score: {rand_cv_catboost.best_score_}')"
   ]
  },
  {
   "cell_type": "code",
   "execution_count": 25,
   "metadata": {
    "tags": []
   },
   "outputs": [],
   "source": [
    "cb_classifier = CatBoostClassifier(**rand_cv_catboost.best_params_)\n",
    "cb_classifier.fit(X_train_,\n",
    "                  y_train_,\n",
    "                  eval_set=eval_set,\n",
    "                  early_stopping_rounds=100,\n",
    "                  verbose=False)\n",
    "\n",
    "y_pred = cb_classifier.predict(X_test)\n",
    "y_score = cb_classifier.predict_proba(X_test)"
   ]
  },
  {
   "cell_type": "code",
   "execution_count": 26,
   "metadata": {
    "tags": []
   },
   "outputs": [
    {
     "data": {
      "text/html": [
       "<div>\n",
       "<style scoped>\n",
       "    .dataframe tbody tr th:only-of-type {\n",
       "        vertical-align: middle;\n",
       "    }\n",
       "\n",
       "    .dataframe tbody tr th {\n",
       "        vertical-align: top;\n",
       "    }\n",
       "\n",
       "    .dataframe thead th {\n",
       "        text-align: right;\n",
       "    }\n",
       "</style>\n",
       "<table border=\"1\" class=\"dataframe\">\n",
       "  <thead>\n",
       "    <tr style=\"text-align: right;\">\n",
       "      <th></th>\n",
       "      <th>Accuracy</th>\n",
       "      <th>ROC_AUC</th>\n",
       "      <th>Precision</th>\n",
       "      <th>Recall</th>\n",
       "      <th>f1</th>\n",
       "      <th>Logloss</th>\n",
       "    </tr>\n",
       "    <tr>\n",
       "      <th>model</th>\n",
       "      <th></th>\n",
       "      <th></th>\n",
       "      <th></th>\n",
       "      <th></th>\n",
       "      <th></th>\n",
       "      <th></th>\n",
       "    </tr>\n",
       "  </thead>\n",
       "  <tbody>\n",
       "    <tr>\n",
       "      <th>Logistic Regression</th>\n",
       "      <td>0.812</td>\n",
       "      <td>0.829</td>\n",
       "      <td>0.779</td>\n",
       "      <td>0.391</td>\n",
       "      <td>0.521</td>\n",
       "      <td>0.405</td>\n",
       "    </tr>\n",
       "    <tr>\n",
       "      <th>CatBoost</th>\n",
       "      <td>0.752</td>\n",
       "      <td>0.815</td>\n",
       "      <td>0.519</td>\n",
       "      <td>0.654</td>\n",
       "      <td>0.579</td>\n",
       "      <td>0.486</td>\n",
       "    </tr>\n",
       "    <tr>\n",
       "      <th>Logistic Regression RandomCV</th>\n",
       "      <td>0.812</td>\n",
       "      <td>0.830</td>\n",
       "      <td>0.779</td>\n",
       "      <td>0.391</td>\n",
       "      <td>0.521</td>\n",
       "      <td>0.405</td>\n",
       "    </tr>\n",
       "    <tr>\n",
       "      <th>CatBoost RandomCV</th>\n",
       "      <td>0.750</td>\n",
       "      <td>0.821</td>\n",
       "      <td>0.515</td>\n",
       "      <td>0.706</td>\n",
       "      <td>0.596</td>\n",
       "      <td>0.502</td>\n",
       "    </tr>\n",
       "  </tbody>\n",
       "</table>\n",
       "</div>"
      ],
      "text/plain": [
       "                              Accuracy  ROC_AUC  Precision  Recall     f1  \\\n",
       "model                                                                       \n",
       "Logistic Regression              0.812    0.829      0.779   0.391  0.521   \n",
       "CatBoost                         0.752    0.815      0.519   0.654  0.579   \n",
       "Logistic Regression RandomCV     0.812    0.830      0.779   0.391  0.521   \n",
       "CatBoost RandomCV                0.750    0.821      0.515   0.706  0.596   \n",
       "\n",
       "                              Logloss  \n",
       "model                                  \n",
       "Logistic Regression             0.405  \n",
       "CatBoost                        0.486  \n",
       "Logistic Regression RandomCV    0.405  \n",
       "CatBoost RandomCV               0.502  "
      ]
     },
     "execution_count": 26,
     "metadata": {},
     "output_type": "execute_result"
    }
   ],
   "source": [
    "metrics = pd.concat([\n",
    "    metrics,\n",
    "    get_metrics.get_metrics_classification(y_test,\n",
    "                                           y_pred,\n",
    "                                           y_score,\n",
    "                                           name='CatBoost RandomCV')\n",
    "])\n",
    "\n",
    "round(metrics.set_index('model'), 3)"
   ]
  },
  {
   "cell_type": "markdown",
   "metadata": {},
   "source": [
    "<div class=\"alert alert-block alert-info\"> \n",
    "<b>Comments</b><br>\n",
    "- First we selected the parameter - n_estimators.<br>\n",
    "- Secondly, we selected the parameter - learning_rate.<br>\n",
    "- The metric is better.<br>\n",
    "</div>"
   ]
  },
  {
   "cell_type": "markdown",
   "metadata": {},
   "source": [
    "### Holdout"
   ]
  },
  {
   "cell_type": "markdown",
   "metadata": {},
   "source": [
    "**Logistic Regression.**<br>"
   ]
  },
  {
   "cell_type": "code",
   "execution_count": 27,
   "metadata": {
    "tags": []
   },
   "outputs": [
    {
     "name": "stdout",
     "output_type": "stream",
     "text": [
      "ID = 0, ROC-AUC score: 0.8263103682374698.\n",
      "---\n",
      "ID = 1, ROC-AUC score: 0.8034155020249549.\n",
      "---\n",
      "ID = 2, ROC-AUC score: 0.8409298405786925.\n",
      "---\n",
      "ID = 3, ROC-AUC score: 0.7903684383664646.\n",
      "---\n",
      "ID = 4, ROC-AUC score: 0.7904154330560647.\n",
      "---\n",
      "ROC-AUC score mean: 0.8102879164527295\n"
     ]
    }
   ],
   "source": [
    "finish_test_preds = []\n",
    "finish_test_preds_proba = []\n",
    "\n",
    "cv = StratifiedKFold(n_splits=N_FOLDS, shuffle=True, random_state=RAND)\n",
    "cv_predicts_val = np.empty(N_FOLDS)\n",
    "\n",
    "for idx, (train_idx, test_idx) in enumerate(cv.split(X_train_std, y_train)):\n",
    "    X_train_, X_val = X_train.iloc[train_idx], X_train.iloc[test_idx]\n",
    "    y_train_, y_val = y_train.iloc[train_idx], y_train.iloc[test_idx]\n",
    "\n",
    "    model = LogisticRegression(**rand_cv_lg.best_params_)\n",
    "    model.fit(X_train_, y_train_)\n",
    "\n",
    "    # OOF.\n",
    "    preds_val_proba = model.predict_proba(X_val)[:, 1]\n",
    "    cv_predicts_val[idx] = get_metrics.roc_auc_score(y_val, preds_val_proba)\n",
    "\n",
    "    # Holdout.\n",
    "    preds_test = model.predict(X_test_std)\n",
    "    preds_test_proba = model.predict_proba(X_test_std)\n",
    "\n",
    "    finish_test_preds.append(preds_test)\n",
    "    finish_test_preds_proba.append(preds_test_proba)\n",
    "\n",
    "    print(f'ID = {idx}, ROC-AUC score: {cv_predicts_val[idx]}.')\n",
    "    print('---')\n",
    "\n",
    "print(f'ROC-AUC score mean: {np.mean(cv_predicts_val)}')"
   ]
  },
  {
   "cell_type": "code",
   "execution_count": 28,
   "metadata": {
    "tags": []
   },
   "outputs": [],
   "source": [
    "# Finding mode by class.\n",
    "test_pred = stats.mode(np.column_stack(finish_test_preds), axis=1)[0]\n",
    "\n",
    "# Finding the average according to the probabilities.\n",
    "test_pred_proba = np.mean(finish_test_preds_proba, axis=0)"
   ]
  },
  {
   "cell_type": "code",
   "execution_count": 29,
   "metadata": {
    "tags": []
   },
   "outputs": [
    {
     "name": "stdout",
     "output_type": "stream",
     "text": [
      "ROC-AUC mean OOF: 0.81, std: 0.02\n",
      "---\n",
      "ROC-AUC HOLDOUT: 0.793\n"
     ]
    }
   ],
   "source": [
    "print(f'ROC-AUC mean OOF: {round(np.mean(cv_predicts_val), 3)}, std: {round(np.std(cv_predicts_val), 3)}')\n",
    "print('---')\n",
    "print(f'ROC-AUC HOLDOUT: {round(get_metrics.roc_auc_score(y_test, test_pred_proba[:,1]), 3)}')"
   ]
  },
  {
   "cell_type": "code",
   "execution_count": 30,
   "metadata": {
    "tags": []
   },
   "outputs": [
    {
     "data": {
      "text/html": [
       "<div>\n",
       "<style scoped>\n",
       "    .dataframe tbody tr th:only-of-type {\n",
       "        vertical-align: middle;\n",
       "    }\n",
       "\n",
       "    .dataframe tbody tr th {\n",
       "        vertical-align: top;\n",
       "    }\n",
       "\n",
       "    .dataframe thead th {\n",
       "        text-align: right;\n",
       "    }\n",
       "</style>\n",
       "<table border=\"1\" class=\"dataframe\">\n",
       "  <thead>\n",
       "    <tr style=\"text-align: right;\">\n",
       "      <th></th>\n",
       "      <th>Accuracy</th>\n",
       "      <th>ROC_AUC</th>\n",
       "      <th>Precision</th>\n",
       "      <th>Recall</th>\n",
       "      <th>f1</th>\n",
       "      <th>Logloss</th>\n",
       "    </tr>\n",
       "    <tr>\n",
       "      <th>model</th>\n",
       "      <th></th>\n",
       "      <th></th>\n",
       "      <th></th>\n",
       "      <th></th>\n",
       "      <th></th>\n",
       "      <th></th>\n",
       "    </tr>\n",
       "  </thead>\n",
       "  <tbody>\n",
       "    <tr>\n",
       "      <th>Logistic Regression</th>\n",
       "      <td>0.812</td>\n",
       "      <td>0.829</td>\n",
       "      <td>0.779</td>\n",
       "      <td>0.391</td>\n",
       "      <td>0.521</td>\n",
       "      <td>0.405</td>\n",
       "    </tr>\n",
       "    <tr>\n",
       "      <th>CatBoost</th>\n",
       "      <td>0.752</td>\n",
       "      <td>0.815</td>\n",
       "      <td>0.519</td>\n",
       "      <td>0.654</td>\n",
       "      <td>0.579</td>\n",
       "      <td>0.486</td>\n",
       "    </tr>\n",
       "    <tr>\n",
       "      <th>Logistic Regression RandomCV</th>\n",
       "      <td>0.812</td>\n",
       "      <td>0.830</td>\n",
       "      <td>0.779</td>\n",
       "      <td>0.391</td>\n",
       "      <td>0.521</td>\n",
       "      <td>0.405</td>\n",
       "    </tr>\n",
       "    <tr>\n",
       "      <th>CatBoost RandomCV</th>\n",
       "      <td>0.750</td>\n",
       "      <td>0.821</td>\n",
       "      <td>0.515</td>\n",
       "      <td>0.706</td>\n",
       "      <td>0.596</td>\n",
       "      <td>0.502</td>\n",
       "    </tr>\n",
       "    <tr>\n",
       "      <th>Logistic Regression Holdout</th>\n",
       "      <td>0.817</td>\n",
       "      <td>0.793</td>\n",
       "      <td>0.922</td>\n",
       "      <td>0.325</td>\n",
       "      <td>0.481</td>\n",
       "      <td>0.781</td>\n",
       "    </tr>\n",
       "  </tbody>\n",
       "</table>\n",
       "</div>"
      ],
      "text/plain": [
       "                              Accuracy  ROC_AUC  Precision  Recall     f1  \\\n",
       "model                                                                       \n",
       "Logistic Regression              0.812    0.829      0.779   0.391  0.521   \n",
       "CatBoost                         0.752    0.815      0.519   0.654  0.579   \n",
       "Logistic Regression RandomCV     0.812    0.830      0.779   0.391  0.521   \n",
       "CatBoost RandomCV                0.750    0.821      0.515   0.706  0.596   \n",
       "Logistic Regression Holdout      0.817    0.793      0.922   0.325  0.481   \n",
       "\n",
       "                              Logloss  \n",
       "model                                  \n",
       "Logistic Regression             0.405  \n",
       "CatBoost                        0.486  \n",
       "Logistic Regression RandomCV    0.405  \n",
       "CatBoost RandomCV               0.502  \n",
       "Logistic Regression Holdout     0.781  "
      ]
     },
     "execution_count": 30,
     "metadata": {},
     "output_type": "execute_result"
    }
   ],
   "source": [
    "metrics = pd.concat([\n",
    "    metrics,\n",
    "    get_metrics.get_metrics_classification(y_test,\n",
    "                                           test_pred,\n",
    "                                           test_pred_proba,\n",
    "                                           name='Logistic Regression Holdout')\n",
    "])\n",
    "\n",
    "round(metrics.set_index('model'), 3)"
   ]
  },
  {
   "cell_type": "markdown",
   "metadata": {},
   "source": [
    "<div class=\"alert alert-block alert-info\"> \n",
    "<b>Comments</b><br>\n",
    "- The Holdout metric is stable, but worse than Logistic Regression RandomCV\t.<br>\n",
    "</div>"
   ]
  },
  {
   "cell_type": "markdown",
   "metadata": {},
   "source": [
    "**CatBoost.**<br>"
   ]
  },
  {
   "cell_type": "code",
   "execution_count": 31,
   "metadata": {},
   "outputs": [
    {
     "name": "stdout",
     "output_type": "stream",
     "text": [
      "ID = 0, ROC-AUC score: 0.7951986328627947.\n",
      "---\n",
      "ID = 1, ROC-AUC score: 0.769084907648009.\n",
      "---\n",
      "ID = 2, ROC-AUC score: 0.8367160615211743.\n",
      "---\n",
      "ID = 3, ROC-AUC score: 0.7719935147328352.\n",
      "---\n",
      "ID = 4, ROC-AUC score: 0.7447248460923916.\n",
      "---\n",
      "ROC-AUC score mean: 0.783543592571441\n"
     ]
    }
   ],
   "source": [
    "finish_test_preds = []\n",
    "finish_test_preds_proba = []\n",
    "\n",
    "cv = StratifiedKFold(n_splits=N_FOLDS, shuffle=True, random_state=RAND)\n",
    "cv_predicts_val = np.empty(N_FOLDS)\n",
    "\n",
    "for idx, (train_idx, test_idx) in enumerate(cv.split(X_train, y_train)):\n",
    "    X_train_, X_val = X_train.iloc[train_idx], X_train.iloc[test_idx]\n",
    "    y_train_, y_val = y_train.iloc[train_idx], y_train.iloc[test_idx]\n",
    "\n",
    "    model = CatBoostClassifier(**rand_cv_catboost.best_params_)\n",
    "    model.fit(X_train_, y_train_)\n",
    "\n",
    "    # OOF.\n",
    "    preds_val_proba = model.predict_proba(X_val)[:, 1]\n",
    "    cv_predicts_val[idx] = get_metrics.roc_auc_score(y_val, preds_val_proba)\n",
    "\n",
    "    # Holdout.\n",
    "    preds_test = model.predict(X_test)\n",
    "    preds_test_proba = model.predict_proba(X_test)\n",
    "\n",
    "    finish_test_preds.append(preds_test)\n",
    "    finish_test_preds_proba.append(preds_test_proba)\n",
    "\n",
    "    print(f'ID = {idx}, ROC-AUC score: {cv_predicts_val[idx]}.')\n",
    "    print('---')\n",
    "\n",
    "print(f'ROC-AUC score mean: {np.mean(cv_predicts_val)}')"
   ]
  },
  {
   "cell_type": "code",
   "execution_count": 32,
   "metadata": {
    "tags": []
   },
   "outputs": [],
   "source": [
    "# Finding mode by class.\n",
    "test_pred = stats.mode(np.column_stack(finish_test_preds), axis=1)[0]\n",
    "\n",
    "# Finding the average according to the probabilities.\n",
    "test_pred_proba = np.mean(finish_test_preds_proba, axis=0)"
   ]
  },
  {
   "cell_type": "code",
   "execution_count": 33,
   "metadata": {
    "tags": []
   },
   "outputs": [
    {
     "name": "stdout",
     "output_type": "stream",
     "text": [
      "ROC-AUC mean OOF: 0.784, std: 0.031\n",
      "---\n",
      "ROC-AUC HOLDOUT: 0.802\n"
     ]
    }
   ],
   "source": [
    "print(f'ROC-AUC mean OOF: {round(np.mean(cv_predicts_val), 3)}, std: {round(np.std(cv_predicts_val), 3)}')\n",
    "print('---')\n",
    "print(f'ROC-AUC HOLDOUT: {round(get_metrics.roc_auc_score(y_test, test_pred_proba[:,1]), 3)}')"
   ]
  },
  {
   "cell_type": "code",
   "execution_count": 34,
   "metadata": {
    "tags": []
   },
   "outputs": [
    {
     "data": {
      "text/html": [
       "<div>\n",
       "<style scoped>\n",
       "    .dataframe tbody tr th:only-of-type {\n",
       "        vertical-align: middle;\n",
       "    }\n",
       "\n",
       "    .dataframe tbody tr th {\n",
       "        vertical-align: top;\n",
       "    }\n",
       "\n",
       "    .dataframe thead th {\n",
       "        text-align: right;\n",
       "    }\n",
       "</style>\n",
       "<table border=\"1\" class=\"dataframe\">\n",
       "  <thead>\n",
       "    <tr style=\"text-align: right;\">\n",
       "      <th></th>\n",
       "      <th>Accuracy</th>\n",
       "      <th>ROC_AUC</th>\n",
       "      <th>Precision</th>\n",
       "      <th>Recall</th>\n",
       "      <th>f1</th>\n",
       "      <th>Logloss</th>\n",
       "    </tr>\n",
       "    <tr>\n",
       "      <th>model</th>\n",
       "      <th></th>\n",
       "      <th></th>\n",
       "      <th></th>\n",
       "      <th></th>\n",
       "      <th></th>\n",
       "      <th></th>\n",
       "    </tr>\n",
       "  </thead>\n",
       "  <tbody>\n",
       "    <tr>\n",
       "      <th>Logistic Regression</th>\n",
       "      <td>0.812</td>\n",
       "      <td>0.829</td>\n",
       "      <td>0.779</td>\n",
       "      <td>0.391</td>\n",
       "      <td>0.521</td>\n",
       "      <td>0.405</td>\n",
       "    </tr>\n",
       "    <tr>\n",
       "      <th>CatBoost</th>\n",
       "      <td>0.752</td>\n",
       "      <td>0.815</td>\n",
       "      <td>0.519</td>\n",
       "      <td>0.654</td>\n",
       "      <td>0.579</td>\n",
       "      <td>0.486</td>\n",
       "    </tr>\n",
       "    <tr>\n",
       "      <th>Logistic Regression RandomCV</th>\n",
       "      <td>0.812</td>\n",
       "      <td>0.830</td>\n",
       "      <td>0.779</td>\n",
       "      <td>0.391</td>\n",
       "      <td>0.521</td>\n",
       "      <td>0.405</td>\n",
       "    </tr>\n",
       "    <tr>\n",
       "      <th>CatBoost RandomCV</th>\n",
       "      <td>0.750</td>\n",
       "      <td>0.821</td>\n",
       "      <td>0.515</td>\n",
       "      <td>0.706</td>\n",
       "      <td>0.596</td>\n",
       "      <td>0.502</td>\n",
       "    </tr>\n",
       "    <tr>\n",
       "      <th>Logistic Regression Holdout</th>\n",
       "      <td>0.817</td>\n",
       "      <td>0.793</td>\n",
       "      <td>0.922</td>\n",
       "      <td>0.325</td>\n",
       "      <td>0.481</td>\n",
       "      <td>0.781</td>\n",
       "    </tr>\n",
       "    <tr>\n",
       "      <th>CatBoost Holdout</th>\n",
       "      <td>0.783</td>\n",
       "      <td>0.802</td>\n",
       "      <td>0.585</td>\n",
       "      <td>0.571</td>\n",
       "      <td>0.578</td>\n",
       "      <td>0.456</td>\n",
       "    </tr>\n",
       "  </tbody>\n",
       "</table>\n",
       "</div>"
      ],
      "text/plain": [
       "                              Accuracy  ROC_AUC  Precision  Recall     f1  \\\n",
       "model                                                                       \n",
       "Logistic Regression              0.812    0.829      0.779   0.391  0.521   \n",
       "CatBoost                         0.752    0.815      0.519   0.654  0.579   \n",
       "Logistic Regression RandomCV     0.812    0.830      0.779   0.391  0.521   \n",
       "CatBoost RandomCV                0.750    0.821      0.515   0.706  0.596   \n",
       "Logistic Regression Holdout      0.817    0.793      0.922   0.325  0.481   \n",
       "CatBoost Holdout                 0.783    0.802      0.585   0.571  0.578   \n",
       "\n",
       "                              Logloss  \n",
       "model                                  \n",
       "Logistic Regression             0.405  \n",
       "CatBoost                        0.486  \n",
       "Logistic Regression RandomCV    0.405  \n",
       "CatBoost RandomCV               0.502  \n",
       "Logistic Regression Holdout     0.781  \n",
       "CatBoost Holdout                0.456  "
      ]
     },
     "execution_count": 34,
     "metadata": {},
     "output_type": "execute_result"
    }
   ],
   "source": [
    "metrics = pd.concat([\n",
    "    metrics,\n",
    "    get_metrics.get_metrics_classification(y_test,\n",
    "                                           test_pred,\n",
    "                                           test_pred_proba,\n",
    "                                           name='CatBoost Holdout')\n",
    "])\n",
    "\n",
    "round(metrics.set_index('model'), 3)"
   ]
  },
  {
   "cell_type": "markdown",
   "metadata": {},
   "source": [
    "<div class=\"alert alert-block alert-info\"> \n",
    "<b>Comments</b><br>\n",
    "- The Holdout metric is stable, but worse than CatBoost RandomCV.<br>\n",
    "</div>"
   ]
  },
  {
   "cell_type": "code",
   "execution_count": 35,
   "metadata": {
    "tags": []
   },
   "outputs": [
    {
     "data": {
      "text/html": [
       "<style type=\"text/css\">\n",
       "#T_965b9_row2_col1, #T_965b9_row3_col3, #T_965b9_row3_col4, #T_965b9_row4_col0, #T_965b9_row4_col2 {\n",
       "  background-color: green;\n",
       "}\n",
       "#T_965b9_row2_col5 {\n",
       "  background-color: lightgreen;\n",
       "}\n",
       "</style>\n",
       "<table id=\"T_965b9\">\n",
       "  <thead>\n",
       "    <tr>\n",
       "      <th class=\"blank level0\" >&nbsp;</th>\n",
       "      <th id=\"T_965b9_level0_col0\" class=\"col_heading level0 col0\" >Accuracy</th>\n",
       "      <th id=\"T_965b9_level0_col1\" class=\"col_heading level0 col1\" >ROC_AUC</th>\n",
       "      <th id=\"T_965b9_level0_col2\" class=\"col_heading level0 col2\" >Precision</th>\n",
       "      <th id=\"T_965b9_level0_col3\" class=\"col_heading level0 col3\" >Recall</th>\n",
       "      <th id=\"T_965b9_level0_col4\" class=\"col_heading level0 col4\" >f1</th>\n",
       "      <th id=\"T_965b9_level0_col5\" class=\"col_heading level0 col5\" >Logloss</th>\n",
       "    </tr>\n",
       "    <tr>\n",
       "      <th class=\"index_name level0\" >model</th>\n",
       "      <th class=\"blank col0\" >&nbsp;</th>\n",
       "      <th class=\"blank col1\" >&nbsp;</th>\n",
       "      <th class=\"blank col2\" >&nbsp;</th>\n",
       "      <th class=\"blank col3\" >&nbsp;</th>\n",
       "      <th class=\"blank col4\" >&nbsp;</th>\n",
       "      <th class=\"blank col5\" >&nbsp;</th>\n",
       "    </tr>\n",
       "  </thead>\n",
       "  <tbody>\n",
       "    <tr>\n",
       "      <th id=\"T_965b9_level0_row0\" class=\"row_heading level0 row0\" >Logistic Regression</th>\n",
       "      <td id=\"T_965b9_row0_col0\" class=\"data row0 col0\" >0.812444</td>\n",
       "      <td id=\"T_965b9_row0_col1\" class=\"data row0 col1\" >0.829218</td>\n",
       "      <td id=\"T_965b9_row0_col2\" class=\"data row0 col2\" >0.779310</td>\n",
       "      <td id=\"T_965b9_row0_col3\" class=\"data row0 col3\" >0.391003</td>\n",
       "      <td id=\"T_965b9_row0_col4\" class=\"data row0 col4\" >0.520737</td>\n",
       "      <td id=\"T_965b9_row0_col5\" class=\"data row0 col5\" >0.404747</td>\n",
       "    </tr>\n",
       "    <tr>\n",
       "      <th id=\"T_965b9_level0_row1\" class=\"row_heading level0 row1\" >CatBoost</th>\n",
       "      <td id=\"T_965b9_row1_col0\" class=\"data row1 col0\" >0.752029</td>\n",
       "      <td id=\"T_965b9_row1_col1\" class=\"data row1 col1\" >0.815364</td>\n",
       "      <td id=\"T_965b9_row1_col2\" class=\"data row1 col2\" >0.519231</td>\n",
       "      <td id=\"T_965b9_row1_col3\" class=\"data row1 col3\" >0.653979</td>\n",
       "      <td id=\"T_965b9_row1_col4\" class=\"data row1 col4\" >0.578867</td>\n",
       "      <td id=\"T_965b9_row1_col5\" class=\"data row1 col5\" >0.485576</td>\n",
       "    </tr>\n",
       "    <tr>\n",
       "      <th id=\"T_965b9_level0_row2\" class=\"row_heading level0 row2\" >Logistic Regression RandomCV</th>\n",
       "      <td id=\"T_965b9_row2_col0\" class=\"data row2 col0\" >0.812444</td>\n",
       "      <td id=\"T_965b9_row2_col1\" class=\"data row2 col1\" >0.829838</td>\n",
       "      <td id=\"T_965b9_row2_col2\" class=\"data row2 col2\" >0.779310</td>\n",
       "      <td id=\"T_965b9_row2_col3\" class=\"data row2 col3\" >0.391003</td>\n",
       "      <td id=\"T_965b9_row2_col4\" class=\"data row2 col4\" >0.520737</td>\n",
       "      <td id=\"T_965b9_row2_col5\" class=\"data row2 col5\" >0.404612</td>\n",
       "    </tr>\n",
       "    <tr>\n",
       "      <th id=\"T_965b9_level0_row3\" class=\"row_heading level0 row3\" >CatBoost RandomCV</th>\n",
       "      <td id=\"T_965b9_row3_col0\" class=\"data row3 col0\" >0.750225</td>\n",
       "      <td id=\"T_965b9_row3_col1\" class=\"data row3 col1\" >0.820533</td>\n",
       "      <td id=\"T_965b9_row3_col2\" class=\"data row3 col2\" >0.515152</td>\n",
       "      <td id=\"T_965b9_row3_col3\" class=\"data row3 col3\" >0.705882</td>\n",
       "      <td id=\"T_965b9_row3_col4\" class=\"data row3 col4\" >0.595620</td>\n",
       "      <td id=\"T_965b9_row3_col5\" class=\"data row3 col5\" >0.501753</td>\n",
       "    </tr>\n",
       "    <tr>\n",
       "      <th id=\"T_965b9_level0_row4\" class=\"row_heading level0 row4\" >Logistic Regression Holdout</th>\n",
       "      <td id=\"T_965b9_row4_col0\" class=\"data row4 col0\" >0.816952</td>\n",
       "      <td id=\"T_965b9_row4_col1\" class=\"data row4 col1\" >0.792717</td>\n",
       "      <td id=\"T_965b9_row4_col2\" class=\"data row4 col2\" >0.921569</td>\n",
       "      <td id=\"T_965b9_row4_col3\" class=\"data row4 col3\" >0.325260</td>\n",
       "      <td id=\"T_965b9_row4_col4\" class=\"data row4 col4\" >0.480818</td>\n",
       "      <td id=\"T_965b9_row4_col5\" class=\"data row4 col5\" >0.780631</td>\n",
       "    </tr>\n",
       "    <tr>\n",
       "      <th id=\"T_965b9_level0_row5\" class=\"row_heading level0 row5\" >CatBoost Holdout</th>\n",
       "      <td id=\"T_965b9_row5_col0\" class=\"data row5 col0\" >0.782687</td>\n",
       "      <td id=\"T_965b9_row5_col1\" class=\"data row5 col1\" >0.801667</td>\n",
       "      <td id=\"T_965b9_row5_col2\" class=\"data row5 col2\" >0.585106</td>\n",
       "      <td id=\"T_965b9_row5_col3\" class=\"data row5 col3\" >0.570934</td>\n",
       "      <td id=\"T_965b9_row5_col4\" class=\"data row5 col4\" >0.577933</td>\n",
       "      <td id=\"T_965b9_row5_col5\" class=\"data row5 col5\" >0.456006</td>\n",
       "    </tr>\n",
       "  </tbody>\n",
       "</table>\n"
      ],
      "text/plain": [
       "<pandas.io.formats.style.Styler at 0x1356e2310>"
      ]
     },
     "execution_count": 35,
     "metadata": {},
     "output_type": "execute_result"
    }
   ],
   "source": [
    "error_columns = ['Logloss']\n",
    "\n",
    "evaluate_metrics = metrics.set_index('model').style.highlight_max(\n",
    "    subset=['Accuracy','ROC_AUC', 'Precision', 'Recall', 'f1'], color='green', axis=0) \\\n",
    "    .highlight_min(subset=error_columns, color='lightgreen', axis=0)\n",
    "\n",
    "evaluate_metrics"
   ]
  },
  {
   "cell_type": "markdown",
   "metadata": {},
   "source": [
    "<div class=\"alert alert-block alert-info\"> \n",
    "<b>Comments</b><br>\n",
    "Precision is important when the cost of false positives is high.\n",
    "In medical scenarios, false positives might lead to unnecessary treatments or interventions,\n",
    "and precision becomes crucial to minimize such cases.\n",
    "\n",
    "Recall is important when the cost of false negatives is high.\n",
    "In medical situations, missing a positive case (false negatives) could have severe consequences,\n",
    "and recall is essential to ensure that as many positive cases as possible are detected.\n",
    "\n",
    "CatBoost RandomCV has better Recall metric, so we can detect more people with CVD.\n",
    "\n",
    "Conclusion: we will choose as the main model - CatBoost RandomCV.\n",
    "It has worse ROC-AUC than Logistic Regresion RandomCV, but more stable metric on Holdout and Recall is better.\n",
    "</div>"
   ]
  },
  {
   "cell_type": "markdown",
   "metadata": {},
   "source": [
    "### Model saving"
   ]
  },
  {
   "cell_type": "code",
   "execution_count": 36,
   "metadata": {
    "tags": []
   },
   "outputs": [],
   "source": [
    "with open('models/catboost_random_cv.pkl', 'wb') as file:\n",
    "    pickle.dump(cb_classifier, file)"
   ]
  },
  {
   "cell_type": "code",
   "execution_count": null,
   "metadata": {},
   "outputs": [],
   "source": []
  }
 ],
 "metadata": {
  "hide_input": false,
  "kernelspec": {
   "display_name": "Python 3 (ipykernel)",
   "language": "python",
   "name": "python3"
  },
  "language_info": {
   "codemirror_mode": {
    "name": "ipython",
    "version": 3
   },
   "file_extension": ".py",
   "mimetype": "text/x-python",
   "name": "python",
   "nbconvert_exporter": "python",
   "pygments_lexer": "ipython3",
   "version": "3.11.5"
  },
  "toc": {
   "base_numbering": 1,
   "nav_menu": {},
   "number_sections": true,
   "sideBar": true,
   "skip_h1_title": false,
   "title_cell": "Table of Contents",
   "title_sidebar": "Contents",
   "toc_cell": false,
   "toc_position": {
    "height": "calc(100% - 180px)",
    "left": "10px",
    "top": "150px",
    "width": "194.154404px"
   },
   "toc_section_display": true,
   "toc_window_display": true
  }
 },
 "nbformat": 4,
 "nbformat_minor": 4
}
